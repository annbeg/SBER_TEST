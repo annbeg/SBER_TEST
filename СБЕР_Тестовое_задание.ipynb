{
  "nbformat": 4,
  "nbformat_minor": 0,
  "metadata": {
    "colab": {
      "name": "СБЕР Тестовое задание.ipynb",
      "provenance": [],
      "collapsed_sections": [],
      "toc_visible": true
    },
    "kernelspec": {
      "name": "python3",
      "display_name": "Python 3"
    },
    "language_info": {
      "name": "python"
    }
  },
  "cells": [
    {
      "cell_type": "markdown",
      "metadata": {
        "id": "wgcrXhXF2hdx"
      },
      "source": [
        "### **Задание №1**. Предположим, что у вас в базе есть табличка с балансом по всем счетам клиента на конец дня. Из-за особенностей построения таблицы, часть значений незаполнена и физически это означает отсутствие информации об изменении баланса. Для простоты будем считать, пропущенные значения для одного пользователя не могут встретиться между двумя заполненными. Напишите SQL запрос для заполнения неизвестных значений по каждому клиенту последним известным.\n",
        "\n",
        "client_id |date | value\n",
        "--- | --- | ---\n",
        "1 | 14.04.2020 | 10000\n",
        "1 | 15.04.2020 | 5000\n",
        "1 | 16.04.2020 | NaN\n",
        "1 | 17.04.2020 | NaN\n",
        "1 | 18.04.2020 | NaN\n",
        "2 | 14.04.2020 | 250000\n",
        "2 | 15.04.2020 | 250000\n",
        "2 | 16.04.2020 | 230000\n",
        "2 | 17.04.2020 | 230000\n",
        "2 | 18.04.2020 | 225000\n",
        "3 | 14.04.2020 | 50000\n",
        "3 | 15.04.2020 | NaN\n",
        "3 | 16.04.2020 | NaN\n",
        "3 | 17.04.2020 | NaN\n",
        "3 | 18.04.2020 | NaN\n"
      ]
    },
    {
      "cell_type": "code",
      "metadata": {
        "id": "319frI6r16vt"
      },
      "source": [
        "SELECT tableName.client_id, tableName.date, \n",
        "COALESCE(tableName.value, P.value) value FROM tableName \n",
        "JOIN (\n",
        "    SELECT tableName.client_id, value FROM tableName\n",
        "    JOIN (\n",
        "        SELECT client_id, MAX(date) max_date\n",
        "        FROM tableName\n",
        "        WHERE value is not NULL\n",
        "        group by client_id\n",
        "    ) T\n",
        "    ON tableName.client_id = T.client_id AND tableName.date = T.max_date\n",
        ") P\n",
        "ON tableName.client_id = P.client_id "
      ],
      "execution_count": null,
      "outputs": []
    },
    {
      "cell_type": "markdown",
      "metadata": {
        "id": "_KG06CvbJZbJ"
      },
      "source": [
        "### **Задание №1.1 (*)**. В прошлом задании мы считали, что пропущенные значения не могут находиться между двумя заполненными в рамках одного пользователя, что не всегда правда в реальных задачах. Напишите теперь SQL запрос без указанного допущения.\n",
        "\n",
        "client_id |date | value\n",
        "--- | --- | ---\n",
        "1 | 14.04.2020 | 10000\n",
        "1 | 15.04.2020 | 5000\n",
        "1 | 16.04.2020 | NaN\n",
        "1 | 17.04.2020 | 7000\n",
        "1 | 18.04.2020 | NaN\n",
        "2 | 14.04.2020 | 250000\n",
        "2 | 15.04.2020 | 250000\n",
        "2 | 16.04.2020 | 230000\n",
        "2 | 17.04.2020 | 230000\n",
        "2 | 18.04.2020 | 225000\n",
        "3 | 14.04.2020 | 50000\n",
        "3 | 15.04.2020 | NaN\n",
        "3 | 16.04.2020 | NaN\n",
        "3 | 17.04.2020 | 49000\n",
        "3 | 18.04.2020 | NaN"
      ]
    },
    {
      "cell_type": "code",
      "metadata": {
        "id": "y39pOtGaJYyL"
      },
      "source": [
        "SELECT \n",
        "    tableName.client_id, \n",
        "    tableName.date, \n",
        "    COALESCE(tableName.value,T.value) value\n",
        "FROM tableName \n",
        "LEFT JOIN (\n",
        "    SELECT T.client_id, T.date, tableName.value\n",
        "    FROM (\n",
        "        SELECT tableName.client_id, tableName.date, MAX(T.date) last_known_date FROM tableName\n",
        "        JOIN (\n",
        "            SELECT client_id, date, value\n",
        "            FROM tableName\n",
        "            WHERE value is not NULL\n",
        "        ) T \n",
        "        ON tableName.client_id = T.client_id \n",
        "        AND tableName.date > T.date \n",
        "        AND tableName.value is NULL\n",
        "        GROUP BY tableName.client_id, tableName.date\n",
        "    ) T\n",
        "    JOIN tableName \n",
        "    ON T.client_id = tableName.client_id\n",
        "    AND T.last_known_date = tableName.date\n",
        ") T\n",
        "ON tableName.client_id = T.client_id\n",
        "AND tableName.date = T.date"
      ],
      "execution_count": null,
      "outputs": []
    },
    {
      "cell_type": "markdown",
      "metadata": {
        "id": "wJpKlNtb5hro"
      },
      "source": [
        "### **Задание №2**. Пусть клиенты обладают рядом статусов, закодированных цифрами: 0 - \"улица\", 1 - \"зарплатник\", 2 - \"премиум\", 3 - \"пенсионер\", 4 - \"студент\". У нас есть матрица с логами смен статусов за некоторый период, разверните ее в матрицу статус - статус с частотами перехода между ними.\n",
        "\n",
        "Пример, как было:\n",
        "\n",
        "client_id | prev_segment | new_segment|\n",
        "--- | --- | ---\n",
        "1 | 0 | 1\n",
        "2 | 0 | 2\n",
        "3 | 4 | 3\n",
        "\n",
        "Пример, как нужно:\n",
        "\n",
        "segment |0 | 1 | 2 | 3 | 4 \n",
        "--- | --- | --- | --- | --- | ---\n",
        "0 | 0 | 0.5 | 0.5 | 0 | 0 \n",
        "1 | 0 |0 | 0 | 0 | 0\n",
        "2 | 0 | 0 | 0 | 0 | 0\n",
        "3 | 0 | 0 | 0 | 0 | 0\n",
        "4 | 0 | 0 | 0 | 1 | 0\n",
        "\n",
        "В процессе выполнения задания разрешается пользоваться библиотеками numpy и pandas."
      ]
    },
    {
      "cell_type": "code",
      "metadata": {
        "id": "6Go_dImd5hEt",
        "colab": {
          "base_uri": "https://localhost:8080/",
          "height": 419
        },
        "outputId": "57689bc4-d2ac-4687-d070-a31e81cd0b4d"
      },
      "source": [
        "import numpy as np\n",
        "import pandas as pd\n",
        "\n",
        "# Сгенерируем данные для задачи\n",
        "low = 0\n",
        "high = 5\n",
        "data = pd.DataFrame(\n",
        "    np.random.randint(low=low, high=high, size=(500000, 2)),\n",
        "    columns=['prev_segment', 'new_segment']\n",
        ")\n",
        "\n",
        "# <YOUR_CODE_HERE>\n",
        "data"
      ],
      "execution_count": 1,
      "outputs": [
        {
          "output_type": "execute_result",
          "data": {
            "text/html": [
              "<div>\n",
              "<style scoped>\n",
              "    .dataframe tbody tr th:only-of-type {\n",
              "        vertical-align: middle;\n",
              "    }\n",
              "\n",
              "    .dataframe tbody tr th {\n",
              "        vertical-align: top;\n",
              "    }\n",
              "\n",
              "    .dataframe thead th {\n",
              "        text-align: right;\n",
              "    }\n",
              "</style>\n",
              "<table border=\"1\" class=\"dataframe\">\n",
              "  <thead>\n",
              "    <tr style=\"text-align: right;\">\n",
              "      <th></th>\n",
              "      <th>prev_segment</th>\n",
              "      <th>new_segment</th>\n",
              "    </tr>\n",
              "  </thead>\n",
              "  <tbody>\n",
              "    <tr>\n",
              "      <th>0</th>\n",
              "      <td>0</td>\n",
              "      <td>2</td>\n",
              "    </tr>\n",
              "    <tr>\n",
              "      <th>1</th>\n",
              "      <td>3</td>\n",
              "      <td>3</td>\n",
              "    </tr>\n",
              "    <tr>\n",
              "      <th>2</th>\n",
              "      <td>2</td>\n",
              "      <td>2</td>\n",
              "    </tr>\n",
              "    <tr>\n",
              "      <th>3</th>\n",
              "      <td>3</td>\n",
              "      <td>4</td>\n",
              "    </tr>\n",
              "    <tr>\n",
              "      <th>4</th>\n",
              "      <td>1</td>\n",
              "      <td>3</td>\n",
              "    </tr>\n",
              "    <tr>\n",
              "      <th>...</th>\n",
              "      <td>...</td>\n",
              "      <td>...</td>\n",
              "    </tr>\n",
              "    <tr>\n",
              "      <th>499995</th>\n",
              "      <td>4</td>\n",
              "      <td>2</td>\n",
              "    </tr>\n",
              "    <tr>\n",
              "      <th>499996</th>\n",
              "      <td>1</td>\n",
              "      <td>1</td>\n",
              "    </tr>\n",
              "    <tr>\n",
              "      <th>499997</th>\n",
              "      <td>0</td>\n",
              "      <td>4</td>\n",
              "    </tr>\n",
              "    <tr>\n",
              "      <th>499998</th>\n",
              "      <td>3</td>\n",
              "      <td>3</td>\n",
              "    </tr>\n",
              "    <tr>\n",
              "      <th>499999</th>\n",
              "      <td>3</td>\n",
              "      <td>0</td>\n",
              "    </tr>\n",
              "  </tbody>\n",
              "</table>\n",
              "<p>500000 rows × 2 columns</p>\n",
              "</div>"
            ],
            "text/plain": [
              "        prev_segment  new_segment\n",
              "0                  0            2\n",
              "1                  3            3\n",
              "2                  2            2\n",
              "3                  3            4\n",
              "4                  1            3\n",
              "...              ...          ...\n",
              "499995             4            2\n",
              "499996             1            1\n",
              "499997             0            4\n",
              "499998             3            3\n",
              "499999             3            0\n",
              "\n",
              "[500000 rows x 2 columns]"
            ]
          },
          "metadata": {
            "tags": []
          },
          "execution_count": 1
        }
      ]
    },
    {
      "cell_type": "markdown",
      "metadata": {
        "id": "D2wS7w0PbY4L"
      },
      "source": [
        "Создадим матрицу смен статусов, значения в которой будут равны количеству подобных смен. Проигнорируем диагональные элементы, так как в этом тестовом примере они ненулевые."
      ]
    },
    {
      "cell_type": "code",
      "metadata": {
        "colab": {
          "base_uri": "https://localhost:8080/",
          "height": 204
        },
        "id": "VcfvtXiWUjaT",
        "outputId": "787ef06f-9dac-4b18-d991-6cf7034a07ae"
      },
      "source": [
        "result = pd.DataFrame(0, index=np.arange(high), columns=range(low,high))\n",
        "\n",
        "for i in range(high):\n",
        "  for j in range(high):\n",
        "    if i != j:\n",
        "      result.loc[i,j] = len(data.loc[(data.prev_segment == i)&(data.new_segment == j)])\n",
        "result"
      ],
      "execution_count": 2,
      "outputs": [
        {
          "output_type": "execute_result",
          "data": {
            "text/html": [
              "<div>\n",
              "<style scoped>\n",
              "    .dataframe tbody tr th:only-of-type {\n",
              "        vertical-align: middle;\n",
              "    }\n",
              "\n",
              "    .dataframe tbody tr th {\n",
              "        vertical-align: top;\n",
              "    }\n",
              "\n",
              "    .dataframe thead th {\n",
              "        text-align: right;\n",
              "    }\n",
              "</style>\n",
              "<table border=\"1\" class=\"dataframe\">\n",
              "  <thead>\n",
              "    <tr style=\"text-align: right;\">\n",
              "      <th></th>\n",
              "      <th>0</th>\n",
              "      <th>1</th>\n",
              "      <th>2</th>\n",
              "      <th>3</th>\n",
              "      <th>4</th>\n",
              "    </tr>\n",
              "  </thead>\n",
              "  <tbody>\n",
              "    <tr>\n",
              "      <th>0</th>\n",
              "      <td>0</td>\n",
              "      <td>20012</td>\n",
              "      <td>20155</td>\n",
              "      <td>19834</td>\n",
              "      <td>20099</td>\n",
              "    </tr>\n",
              "    <tr>\n",
              "      <th>1</th>\n",
              "      <td>19964</td>\n",
              "      <td>0</td>\n",
              "      <td>19880</td>\n",
              "      <td>19900</td>\n",
              "      <td>19951</td>\n",
              "    </tr>\n",
              "    <tr>\n",
              "      <th>2</th>\n",
              "      <td>20004</td>\n",
              "      <td>19864</td>\n",
              "      <td>0</td>\n",
              "      <td>19775</td>\n",
              "      <td>19963</td>\n",
              "    </tr>\n",
              "    <tr>\n",
              "      <th>3</th>\n",
              "      <td>19898</td>\n",
              "      <td>20117</td>\n",
              "      <td>19936</td>\n",
              "      <td>0</td>\n",
              "      <td>19861</td>\n",
              "    </tr>\n",
              "    <tr>\n",
              "      <th>4</th>\n",
              "      <td>20234</td>\n",
              "      <td>20050</td>\n",
              "      <td>20123</td>\n",
              "      <td>20108</td>\n",
              "      <td>0</td>\n",
              "    </tr>\n",
              "  </tbody>\n",
              "</table>\n",
              "</div>"
            ],
            "text/plain": [
              "       0      1      2      3      4\n",
              "0      0  20012  20155  19834  20099\n",
              "1  19964      0  19880  19900  19951\n",
              "2  20004  19864      0  19775  19963\n",
              "3  19898  20117  19936      0  19861\n",
              "4  20234  20050  20123  20108      0"
            ]
          },
          "metadata": {
            "tags": []
          },
          "execution_count": 2
        }
      ]
    },
    {
      "cell_type": "markdown",
      "metadata": {
        "id": "12Nc6c2db3JG"
      },
      "source": [
        "Остается построчно поделить на элементы на сумму элементов в строке."
      ]
    },
    {
      "cell_type": "code",
      "metadata": {
        "colab": {
          "base_uri": "https://localhost:8080/",
          "height": 204
        },
        "id": "V-uJo9PCMBHX",
        "outputId": "82bc3597-94cb-4b2c-f3b0-83e5dc04c1f3"
      },
      "source": [
        "result = result.div(result.sum(axis=1), axis='rows')\n",
        "result"
      ],
      "execution_count": 3,
      "outputs": [
        {
          "output_type": "execute_result",
          "data": {
            "text/html": [
              "<div>\n",
              "<style scoped>\n",
              "    .dataframe tbody tr th:only-of-type {\n",
              "        vertical-align: middle;\n",
              "    }\n",
              "\n",
              "    .dataframe tbody tr th {\n",
              "        vertical-align: top;\n",
              "    }\n",
              "\n",
              "    .dataframe thead th {\n",
              "        text-align: right;\n",
              "    }\n",
              "</style>\n",
              "<table border=\"1\" class=\"dataframe\">\n",
              "  <thead>\n",
              "    <tr style=\"text-align: right;\">\n",
              "      <th></th>\n",
              "      <th>0</th>\n",
              "      <th>1</th>\n",
              "      <th>2</th>\n",
              "      <th>3</th>\n",
              "      <th>4</th>\n",
              "    </tr>\n",
              "  </thead>\n",
              "  <tbody>\n",
              "    <tr>\n",
              "      <th>0</th>\n",
              "      <td>0.000000</td>\n",
              "      <td>0.249838</td>\n",
              "      <td>0.251623</td>\n",
              "      <td>0.247615</td>\n",
              "      <td>0.250924</td>\n",
              "    </tr>\n",
              "    <tr>\n",
              "      <th>1</th>\n",
              "      <td>0.250505</td>\n",
              "      <td>0.000000</td>\n",
              "      <td>0.249451</td>\n",
              "      <td>0.249702</td>\n",
              "      <td>0.250342</td>\n",
              "    </tr>\n",
              "    <tr>\n",
              "      <th>2</th>\n",
              "      <td>0.251288</td>\n",
              "      <td>0.249529</td>\n",
              "      <td>0.000000</td>\n",
              "      <td>0.248411</td>\n",
              "      <td>0.250773</td>\n",
              "    </tr>\n",
              "    <tr>\n",
              "      <th>3</th>\n",
              "      <td>0.249311</td>\n",
              "      <td>0.252055</td>\n",
              "      <td>0.249787</td>\n",
              "      <td>0.000000</td>\n",
              "      <td>0.248847</td>\n",
              "    </tr>\n",
              "    <tr>\n",
              "      <th>4</th>\n",
              "      <td>0.251307</td>\n",
              "      <td>0.249022</td>\n",
              "      <td>0.249929</td>\n",
              "      <td>0.249742</td>\n",
              "      <td>0.000000</td>\n",
              "    </tr>\n",
              "  </tbody>\n",
              "</table>\n",
              "</div>"
            ],
            "text/plain": [
              "          0         1         2         3         4\n",
              "0  0.000000  0.249838  0.251623  0.247615  0.250924\n",
              "1  0.250505  0.000000  0.249451  0.249702  0.250342\n",
              "2  0.251288  0.249529  0.000000  0.248411  0.250773\n",
              "3  0.249311  0.252055  0.249787  0.000000  0.248847\n",
              "4  0.251307  0.249022  0.249929  0.249742  0.000000"
            ]
          },
          "metadata": {
            "tags": []
          },
          "execution_count": 3
        }
      ]
    },
    {
      "cell_type": "markdown",
      "metadata": {
        "id": "zr6Y-GmXNXMm"
      },
      "source": [
        "### **Задание №2.1 (*)**. Если вы не пользовались библиотечными функциями и реализовывали алгоритм самостоятельно, напишите, пожалуйста, его асимптотическую сложность в терминах O-большое."
      ]
    },
    {
      "cell_type": "code",
      "metadata": {
        "id": "xRKXcJz8NWGF"
      },
      "source": [
        "# <YOUR_CODE_HERE>"
      ],
      "execution_count": 4,
      "outputs": []
    },
    {
      "cell_type": "markdown",
      "metadata": {
        "id": "PCmozMhqNoys"
      },
      "source": [
        "### **Задание №3**. Постройте прогнозую модель для датасета с UCI Machine Learning: предобработайте категориальные фичи, отберите их, соберите схему валидации и отберите модели с помощью нее. Описание датасета по ссылке: https://archive.ics.uci.edu/ml/datasets/Drug+consumption+%28quantified%29\n",
        "\n",
        "Данная задача multilabel multiclass classification, поэтому предлагаю начать с одного из подходов:\n",
        "- Свести задачу к multilabel binary classification, как это указано в описании к датасету;\n",
        "- Свести задачку к binary classification тем или иным способом;\n",
        "- Обучить множество multiclass/binary classification моделей;\n",
        "- Что-то еще, что придет в голову.\n"
      ]
    },
    {
      "cell_type": "code",
      "metadata": {
        "id": "99wiNQQ5Nn2U"
      },
      "source": [
        "!wget https://archive.ics.uci.edu/ml/machine-learning-databases/00373/drug_consumption.data"
      ],
      "execution_count": null,
      "outputs": []
    },
    {
      "cell_type": "code",
      "metadata": {
        "colab": {
          "base_uri": "https://localhost:8080/",
          "height": 255
        },
        "id": "lOsvJKfbNRN4",
        "outputId": "cb1a135a-9369-4387-eb80-ecaf206bdce7"
      },
      "source": [
        "import numpy as np\n",
        "import pandas as pd\n",
        "columns = [\n",
        "           'Age','Gender','Education','Country',\n",
        "           'Ethnicity','Nscore','Escore','Oscore','Ascore',\n",
        "           'Cscore','Impulsive','SS','Alcohol','Amphet',\n",
        "           'Amyl','Benzos','Caff','Cannabis','Choc',\n",
        "           'Coke','Crack','Ecstasy','Heroin','Ketamine',\n",
        "           'Legalh','LSD','Meth','Mushrooms','Nicotine',\n",
        "           'Semeron','VSA'\n",
        "           ]\n",
        "data = pd.read_csv('drug_consumption.data', header=None, index_col=0)\n",
        "data.columns = columns\n",
        "data.head()"
      ],
      "execution_count": 6,
      "outputs": [
        {
          "output_type": "execute_result",
          "data": {
            "text/html": [
              "<div>\n",
              "<style scoped>\n",
              "    .dataframe tbody tr th:only-of-type {\n",
              "        vertical-align: middle;\n",
              "    }\n",
              "\n",
              "    .dataframe tbody tr th {\n",
              "        vertical-align: top;\n",
              "    }\n",
              "\n",
              "    .dataframe thead th {\n",
              "        text-align: right;\n",
              "    }\n",
              "</style>\n",
              "<table border=\"1\" class=\"dataframe\">\n",
              "  <thead>\n",
              "    <tr style=\"text-align: right;\">\n",
              "      <th></th>\n",
              "      <th>Age</th>\n",
              "      <th>Gender</th>\n",
              "      <th>Education</th>\n",
              "      <th>Country</th>\n",
              "      <th>Ethnicity</th>\n",
              "      <th>Nscore</th>\n",
              "      <th>Escore</th>\n",
              "      <th>Oscore</th>\n",
              "      <th>Ascore</th>\n",
              "      <th>Cscore</th>\n",
              "      <th>Impulsive</th>\n",
              "      <th>SS</th>\n",
              "      <th>Alcohol</th>\n",
              "      <th>Amphet</th>\n",
              "      <th>Amyl</th>\n",
              "      <th>Benzos</th>\n",
              "      <th>Caff</th>\n",
              "      <th>Cannabis</th>\n",
              "      <th>Choc</th>\n",
              "      <th>Coke</th>\n",
              "      <th>Crack</th>\n",
              "      <th>Ecstasy</th>\n",
              "      <th>Heroin</th>\n",
              "      <th>Ketamine</th>\n",
              "      <th>Legalh</th>\n",
              "      <th>LSD</th>\n",
              "      <th>Meth</th>\n",
              "      <th>Mushrooms</th>\n",
              "      <th>Nicotine</th>\n",
              "      <th>Semeron</th>\n",
              "      <th>VSA</th>\n",
              "    </tr>\n",
              "    <tr>\n",
              "      <th>0</th>\n",
              "      <th></th>\n",
              "      <th></th>\n",
              "      <th></th>\n",
              "      <th></th>\n",
              "      <th></th>\n",
              "      <th></th>\n",
              "      <th></th>\n",
              "      <th></th>\n",
              "      <th></th>\n",
              "      <th></th>\n",
              "      <th></th>\n",
              "      <th></th>\n",
              "      <th></th>\n",
              "      <th></th>\n",
              "      <th></th>\n",
              "      <th></th>\n",
              "      <th></th>\n",
              "      <th></th>\n",
              "      <th></th>\n",
              "      <th></th>\n",
              "      <th></th>\n",
              "      <th></th>\n",
              "      <th></th>\n",
              "      <th></th>\n",
              "      <th></th>\n",
              "      <th></th>\n",
              "      <th></th>\n",
              "      <th></th>\n",
              "      <th></th>\n",
              "      <th></th>\n",
              "      <th></th>\n",
              "    </tr>\n",
              "  </thead>\n",
              "  <tbody>\n",
              "    <tr>\n",
              "      <th>1</th>\n",
              "      <td>0.49788</td>\n",
              "      <td>0.48246</td>\n",
              "      <td>-0.05921</td>\n",
              "      <td>0.96082</td>\n",
              "      <td>0.12600</td>\n",
              "      <td>0.31287</td>\n",
              "      <td>-0.57545</td>\n",
              "      <td>-0.58331</td>\n",
              "      <td>-0.91699</td>\n",
              "      <td>-0.00665</td>\n",
              "      <td>-0.21712</td>\n",
              "      <td>-1.18084</td>\n",
              "      <td>CL5</td>\n",
              "      <td>CL2</td>\n",
              "      <td>CL0</td>\n",
              "      <td>CL2</td>\n",
              "      <td>CL6</td>\n",
              "      <td>CL0</td>\n",
              "      <td>CL5</td>\n",
              "      <td>CL0</td>\n",
              "      <td>CL0</td>\n",
              "      <td>CL0</td>\n",
              "      <td>CL0</td>\n",
              "      <td>CL0</td>\n",
              "      <td>CL0</td>\n",
              "      <td>CL0</td>\n",
              "      <td>CL0</td>\n",
              "      <td>CL0</td>\n",
              "      <td>CL2</td>\n",
              "      <td>CL0</td>\n",
              "      <td>CL0</td>\n",
              "    </tr>\n",
              "    <tr>\n",
              "      <th>2</th>\n",
              "      <td>-0.07854</td>\n",
              "      <td>-0.48246</td>\n",
              "      <td>1.98437</td>\n",
              "      <td>0.96082</td>\n",
              "      <td>-0.31685</td>\n",
              "      <td>-0.67825</td>\n",
              "      <td>1.93886</td>\n",
              "      <td>1.43533</td>\n",
              "      <td>0.76096</td>\n",
              "      <td>-0.14277</td>\n",
              "      <td>-0.71126</td>\n",
              "      <td>-0.21575</td>\n",
              "      <td>CL5</td>\n",
              "      <td>CL2</td>\n",
              "      <td>CL2</td>\n",
              "      <td>CL0</td>\n",
              "      <td>CL6</td>\n",
              "      <td>CL4</td>\n",
              "      <td>CL6</td>\n",
              "      <td>CL3</td>\n",
              "      <td>CL0</td>\n",
              "      <td>CL4</td>\n",
              "      <td>CL0</td>\n",
              "      <td>CL2</td>\n",
              "      <td>CL0</td>\n",
              "      <td>CL2</td>\n",
              "      <td>CL3</td>\n",
              "      <td>CL0</td>\n",
              "      <td>CL4</td>\n",
              "      <td>CL0</td>\n",
              "      <td>CL0</td>\n",
              "    </tr>\n",
              "    <tr>\n",
              "      <th>3</th>\n",
              "      <td>0.49788</td>\n",
              "      <td>-0.48246</td>\n",
              "      <td>-0.05921</td>\n",
              "      <td>0.96082</td>\n",
              "      <td>-0.31685</td>\n",
              "      <td>-0.46725</td>\n",
              "      <td>0.80523</td>\n",
              "      <td>-0.84732</td>\n",
              "      <td>-1.62090</td>\n",
              "      <td>-1.01450</td>\n",
              "      <td>-1.37983</td>\n",
              "      <td>0.40148</td>\n",
              "      <td>CL6</td>\n",
              "      <td>CL0</td>\n",
              "      <td>CL0</td>\n",
              "      <td>CL0</td>\n",
              "      <td>CL6</td>\n",
              "      <td>CL3</td>\n",
              "      <td>CL4</td>\n",
              "      <td>CL0</td>\n",
              "      <td>CL0</td>\n",
              "      <td>CL0</td>\n",
              "      <td>CL0</td>\n",
              "      <td>CL0</td>\n",
              "      <td>CL0</td>\n",
              "      <td>CL0</td>\n",
              "      <td>CL0</td>\n",
              "      <td>CL1</td>\n",
              "      <td>CL0</td>\n",
              "      <td>CL0</td>\n",
              "      <td>CL0</td>\n",
              "    </tr>\n",
              "    <tr>\n",
              "      <th>4</th>\n",
              "      <td>-0.95197</td>\n",
              "      <td>0.48246</td>\n",
              "      <td>1.16365</td>\n",
              "      <td>0.96082</td>\n",
              "      <td>-0.31685</td>\n",
              "      <td>-0.14882</td>\n",
              "      <td>-0.80615</td>\n",
              "      <td>-0.01928</td>\n",
              "      <td>0.59042</td>\n",
              "      <td>0.58489</td>\n",
              "      <td>-1.37983</td>\n",
              "      <td>-1.18084</td>\n",
              "      <td>CL4</td>\n",
              "      <td>CL0</td>\n",
              "      <td>CL0</td>\n",
              "      <td>CL3</td>\n",
              "      <td>CL5</td>\n",
              "      <td>CL2</td>\n",
              "      <td>CL4</td>\n",
              "      <td>CL2</td>\n",
              "      <td>CL0</td>\n",
              "      <td>CL0</td>\n",
              "      <td>CL0</td>\n",
              "      <td>CL2</td>\n",
              "      <td>CL0</td>\n",
              "      <td>CL0</td>\n",
              "      <td>CL0</td>\n",
              "      <td>CL0</td>\n",
              "      <td>CL2</td>\n",
              "      <td>CL0</td>\n",
              "      <td>CL0</td>\n",
              "    </tr>\n",
              "    <tr>\n",
              "      <th>5</th>\n",
              "      <td>0.49788</td>\n",
              "      <td>0.48246</td>\n",
              "      <td>1.98437</td>\n",
              "      <td>0.96082</td>\n",
              "      <td>-0.31685</td>\n",
              "      <td>0.73545</td>\n",
              "      <td>-1.63340</td>\n",
              "      <td>-0.45174</td>\n",
              "      <td>-0.30172</td>\n",
              "      <td>1.30612</td>\n",
              "      <td>-0.21712</td>\n",
              "      <td>-0.21575</td>\n",
              "      <td>CL4</td>\n",
              "      <td>CL1</td>\n",
              "      <td>CL1</td>\n",
              "      <td>CL0</td>\n",
              "      <td>CL6</td>\n",
              "      <td>CL3</td>\n",
              "      <td>CL6</td>\n",
              "      <td>CL0</td>\n",
              "      <td>CL0</td>\n",
              "      <td>CL1</td>\n",
              "      <td>CL0</td>\n",
              "      <td>CL0</td>\n",
              "      <td>CL1</td>\n",
              "      <td>CL0</td>\n",
              "      <td>CL0</td>\n",
              "      <td>CL2</td>\n",
              "      <td>CL2</td>\n",
              "      <td>CL0</td>\n",
              "      <td>CL0</td>\n",
              "    </tr>\n",
              "  </tbody>\n",
              "</table>\n",
              "</div>"
            ],
            "text/plain": [
              "       Age   Gender  Education  Country  ...  Mushrooms  Nicotine  Semeron  VSA\n",
              "0                                        ...                                   \n",
              "1  0.49788  0.48246   -0.05921  0.96082  ...        CL0       CL2      CL0  CL0\n",
              "2 -0.07854 -0.48246    1.98437  0.96082  ...        CL0       CL4      CL0  CL0\n",
              "3  0.49788 -0.48246   -0.05921  0.96082  ...        CL1       CL0      CL0  CL0\n",
              "4 -0.95197  0.48246    1.16365  0.96082  ...        CL0       CL2      CL0  CL0\n",
              "5  0.49788  0.48246    1.98437  0.96082  ...        CL2       CL2      CL0  CL0\n",
              "\n",
              "[5 rows x 31 columns]"
            ]
          },
          "metadata": {
            "tags": []
          },
          "execution_count": 6
        }
      ]
    },
    {
      "cell_type": "markdown",
      "metadata": {
        "id": "O4AAY0qCHn8w"
      },
      "source": [
        "Проверим данные на наличие пустых значений в столбцах."
      ]
    },
    {
      "cell_type": "code",
      "metadata": {
        "colab": {
          "base_uri": "https://localhost:8080/"
        },
        "id": "_IkHpthaHgyF",
        "outputId": "344b68d6-6315-4eb5-9d3b-127bba467f91"
      },
      "source": [
        "data.info()"
      ],
      "execution_count": 7,
      "outputs": [
        {
          "output_type": "stream",
          "text": [
            "<class 'pandas.core.frame.DataFrame'>\n",
            "Int64Index: 1885 entries, 1 to 1888\n",
            "Data columns (total 31 columns):\n",
            " #   Column     Non-Null Count  Dtype  \n",
            "---  ------     --------------  -----  \n",
            " 0   Age        1885 non-null   float64\n",
            " 1   Gender     1885 non-null   float64\n",
            " 2   Education  1885 non-null   float64\n",
            " 3   Country    1885 non-null   float64\n",
            " 4   Ethnicity  1885 non-null   float64\n",
            " 5   Nscore     1885 non-null   float64\n",
            " 6   Escore     1885 non-null   float64\n",
            " 7   Oscore     1885 non-null   float64\n",
            " 8   Ascore     1885 non-null   float64\n",
            " 9   Cscore     1885 non-null   float64\n",
            " 10  Impulsive  1885 non-null   float64\n",
            " 11  SS         1885 non-null   float64\n",
            " 12  Alcohol    1885 non-null   object \n",
            " 13  Amphet     1885 non-null   object \n",
            " 14  Amyl       1885 non-null   object \n",
            " 15  Benzos     1885 non-null   object \n",
            " 16  Caff       1885 non-null   object \n",
            " 17  Cannabis   1885 non-null   object \n",
            " 18  Choc       1885 non-null   object \n",
            " 19  Coke       1885 non-null   object \n",
            " 20  Crack      1885 non-null   object \n",
            " 21  Ecstasy    1885 non-null   object \n",
            " 22  Heroin     1885 non-null   object \n",
            " 23  Ketamine   1885 non-null   object \n",
            " 24  Legalh     1885 non-null   object \n",
            " 25  LSD        1885 non-null   object \n",
            " 26  Meth       1885 non-null   object \n",
            " 27  Mushrooms  1885 non-null   object \n",
            " 28  Nicotine   1885 non-null   object \n",
            " 29  Semeron    1885 non-null   object \n",
            " 30  VSA        1885 non-null   object \n",
            "dtypes: float64(12), object(19)\n",
            "memory usage: 471.2+ KB\n"
          ],
          "name": "stdout"
        }
      ]
    },
    {
      "cell_type": "markdown",
      "metadata": {
        "id": "3sN9cNLJCY4i"
      },
      "source": [
        "В данных среди прочих наркотиков присутствует  Semeron. Это выдуманный наркотик. Его предназначение в рамках эксперимента  заключается в отсеивании участников, дающих ложные ответы.\n",
        "\n",
        "Оставим только те строки, в которых в столбце Semeron значение 'CL0'."
      ]
    },
    {
      "cell_type": "code",
      "metadata": {
        "id": "TkxdvUfaA2lj"
      },
      "source": [
        "data = data.loc[data['Semeron'] == 'CL0']\n",
        "data = data.set_index(pd.Index(range(1,len(data)+1)))\n",
        "data = data.drop(columns=['Semeron'])"
      ],
      "execution_count": 8,
      "outputs": []
    },
    {
      "cell_type": "code",
      "metadata": {
        "id": "noKg5al609rz"
      },
      "source": [
        "features = [\n",
        "           'Age','Gender','Education','Country',\n",
        "           'Ethnicity','Nscore','Escore','Oscore','Ascore',\n",
        "           'Cscore','Impulsive','SS'\n",
        "           ]\n",
        "drugs = [\n",
        "           'Alcohol','Amphet',\n",
        "           'Amyl','Benzos','Caff','Cannabis','Choc',\n",
        "           'Coke','Crack','Ecstasy','Heroin','Ketamine',\n",
        "           'Legalh','LSD','Meth','Mushrooms','Nicotine','VSA'\n",
        "           ]"
      ],
      "execution_count": 9,
      "outputs": []
    },
    {
      "cell_type": "markdown",
      "metadata": {
        "id": "F9pkRUA_Gkyf"
      },
      "source": [
        "Проверим, есть ли среди фичей сильно коррелирующие и в случае чего избавимся от них."
      ]
    },
    {
      "cell_type": "code",
      "metadata": {
        "id": "CJrdKouqQ40G",
        "colab": {
          "base_uri": "https://localhost:8080/",
          "height": 441
        },
        "outputId": "f5e0a79f-6fc8-4883-fb8d-9a0350620912"
      },
      "source": [
        "data.loc[:, features].corr()"
      ],
      "execution_count": 10,
      "outputs": [
        {
          "output_type": "execute_result",
          "data": {
            "text/html": [
              "<div>\n",
              "<style scoped>\n",
              "    .dataframe tbody tr th:only-of-type {\n",
              "        vertical-align: middle;\n",
              "    }\n",
              "\n",
              "    .dataframe tbody tr th {\n",
              "        vertical-align: top;\n",
              "    }\n",
              "\n",
              "    .dataframe thead th {\n",
              "        text-align: right;\n",
              "    }\n",
              "</style>\n",
              "<table border=\"1\" class=\"dataframe\">\n",
              "  <thead>\n",
              "    <tr style=\"text-align: right;\">\n",
              "      <th></th>\n",
              "      <th>Age</th>\n",
              "      <th>Gender</th>\n",
              "      <th>Education</th>\n",
              "      <th>Country</th>\n",
              "      <th>Ethnicity</th>\n",
              "      <th>Nscore</th>\n",
              "      <th>Escore</th>\n",
              "      <th>Oscore</th>\n",
              "      <th>Ascore</th>\n",
              "      <th>Cscore</th>\n",
              "      <th>Impulsive</th>\n",
              "      <th>SS</th>\n",
              "    </tr>\n",
              "  </thead>\n",
              "  <tbody>\n",
              "    <tr>\n",
              "      <th>Age</th>\n",
              "      <td>1.000000</td>\n",
              "      <td>0.110546</td>\n",
              "      <td>0.156719</td>\n",
              "      <td>0.352023</td>\n",
              "      <td>-0.068967</td>\n",
              "      <td>-0.137952</td>\n",
              "      <td>-0.031433</td>\n",
              "      <td>-0.226795</td>\n",
              "      <td>0.063937</td>\n",
              "      <td>0.184265</td>\n",
              "      <td>-0.191432</td>\n",
              "      <td>-0.331521</td>\n",
              "    </tr>\n",
              "    <tr>\n",
              "      <th>Gender</th>\n",
              "      <td>0.110546</td>\n",
              "      <td>1.000000</td>\n",
              "      <td>0.197904</td>\n",
              "      <td>0.218806</td>\n",
              "      <td>-0.002845</td>\n",
              "      <td>0.072980</td>\n",
              "      <td>0.058690</td>\n",
              "      <td>-0.133809</td>\n",
              "      <td>0.219119</td>\n",
              "      <td>0.182411</td>\n",
              "      <td>-0.169518</td>\n",
              "      <td>-0.246434</td>\n",
              "    </tr>\n",
              "    <tr>\n",
              "      <th>Education</th>\n",
              "      <td>0.156719</td>\n",
              "      <td>0.197904</td>\n",
              "      <td>1.000000</td>\n",
              "      <td>0.223474</td>\n",
              "      <td>-0.035493</td>\n",
              "      <td>-0.102268</td>\n",
              "      <td>0.119156</td>\n",
              "      <td>0.059153</td>\n",
              "      <td>0.089528</td>\n",
              "      <td>0.241438</td>\n",
              "      <td>-0.131714</td>\n",
              "      <td>-0.128587</td>\n",
              "    </tr>\n",
              "    <tr>\n",
              "      <th>Country</th>\n",
              "      <td>0.352023</td>\n",
              "      <td>0.218806</td>\n",
              "      <td>0.223474</td>\n",
              "      <td>1.000000</td>\n",
              "      <td>-0.126974</td>\n",
              "      <td>-0.135600</td>\n",
              "      <td>0.111731</td>\n",
              "      <td>-0.340646</td>\n",
              "      <td>0.152536</td>\n",
              "      <td>0.214892</td>\n",
              "      <td>-0.230975</td>\n",
              "      <td>-0.343111</td>\n",
              "    </tr>\n",
              "    <tr>\n",
              "      <th>Ethnicity</th>\n",
              "      <td>-0.068967</td>\n",
              "      <td>-0.002845</td>\n",
              "      <td>-0.035493</td>\n",
              "      <td>-0.126974</td>\n",
              "      <td>1.000000</td>\n",
              "      <td>0.048206</td>\n",
              "      <td>0.018086</td>\n",
              "      <td>0.085041</td>\n",
              "      <td>-0.041652</td>\n",
              "      <td>-0.032151</td>\n",
              "      <td>0.085264</td>\n",
              "      <td>0.102193</td>\n",
              "    </tr>\n",
              "    <tr>\n",
              "      <th>Nscore</th>\n",
              "      <td>-0.137952</td>\n",
              "      <td>0.072980</td>\n",
              "      <td>-0.102268</td>\n",
              "      <td>-0.135600</td>\n",
              "      <td>0.048206</td>\n",
              "      <td>1.000000</td>\n",
              "      <td>-0.431535</td>\n",
              "      <td>0.007530</td>\n",
              "      <td>-0.217776</td>\n",
              "      <td>-0.392354</td>\n",
              "      <td>0.173384</td>\n",
              "      <td>0.078152</td>\n",
              "    </tr>\n",
              "    <tr>\n",
              "      <th>Escore</th>\n",
              "      <td>-0.031433</td>\n",
              "      <td>0.058690</td>\n",
              "      <td>0.119156</td>\n",
              "      <td>0.111731</td>\n",
              "      <td>0.018086</td>\n",
              "      <td>-0.431535</td>\n",
              "      <td>1.000000</td>\n",
              "      <td>0.244784</td>\n",
              "      <td>0.158082</td>\n",
              "      <td>0.307570</td>\n",
              "      <td>0.113695</td>\n",
              "      <td>0.208322</td>\n",
              "    </tr>\n",
              "    <tr>\n",
              "      <th>Oscore</th>\n",
              "      <td>-0.226795</td>\n",
              "      <td>-0.133809</td>\n",
              "      <td>0.059153</td>\n",
              "      <td>-0.340646</td>\n",
              "      <td>0.085041</td>\n",
              "      <td>0.007530</td>\n",
              "      <td>0.244784</td>\n",
              "      <td>1.000000</td>\n",
              "      <td>0.036846</td>\n",
              "      <td>-0.058607</td>\n",
              "      <td>0.275363</td>\n",
              "      <td>0.419486</td>\n",
              "    </tr>\n",
              "    <tr>\n",
              "      <th>Ascore</th>\n",
              "      <td>0.063937</td>\n",
              "      <td>0.219119</td>\n",
              "      <td>0.089528</td>\n",
              "      <td>0.152536</td>\n",
              "      <td>-0.041652</td>\n",
              "      <td>-0.217776</td>\n",
              "      <td>0.158082</td>\n",
              "      <td>0.036846</td>\n",
              "      <td>1.000000</td>\n",
              "      <td>0.245438</td>\n",
              "      <td>-0.229945</td>\n",
              "      <td>-0.208319</td>\n",
              "    </tr>\n",
              "    <tr>\n",
              "      <th>Cscore</th>\n",
              "      <td>0.184265</td>\n",
              "      <td>0.182411</td>\n",
              "      <td>0.241438</td>\n",
              "      <td>0.214892</td>\n",
              "      <td>-0.032151</td>\n",
              "      <td>-0.392354</td>\n",
              "      <td>0.307570</td>\n",
              "      <td>-0.058607</td>\n",
              "      <td>0.245438</td>\n",
              "      <td>1.000000</td>\n",
              "      <td>-0.336175</td>\n",
              "      <td>-0.230334</td>\n",
              "    </tr>\n",
              "    <tr>\n",
              "      <th>Impulsive</th>\n",
              "      <td>-0.191432</td>\n",
              "      <td>-0.169518</td>\n",
              "      <td>-0.131714</td>\n",
              "      <td>-0.230975</td>\n",
              "      <td>0.085264</td>\n",
              "      <td>0.173384</td>\n",
              "      <td>0.113695</td>\n",
              "      <td>0.275363</td>\n",
              "      <td>-0.229945</td>\n",
              "      <td>-0.336175</td>\n",
              "      <td>1.000000</td>\n",
              "      <td>0.622500</td>\n",
              "    </tr>\n",
              "    <tr>\n",
              "      <th>SS</th>\n",
              "      <td>-0.331521</td>\n",
              "      <td>-0.246434</td>\n",
              "      <td>-0.128587</td>\n",
              "      <td>-0.343111</td>\n",
              "      <td>0.102193</td>\n",
              "      <td>0.078152</td>\n",
              "      <td>0.208322</td>\n",
              "      <td>0.419486</td>\n",
              "      <td>-0.208319</td>\n",
              "      <td>-0.230334</td>\n",
              "      <td>0.622500</td>\n",
              "      <td>1.000000</td>\n",
              "    </tr>\n",
              "  </tbody>\n",
              "</table>\n",
              "</div>"
            ],
            "text/plain": [
              "                Age    Gender  Education  ...    Cscore  Impulsive        SS\n",
              "Age        1.000000  0.110546   0.156719  ...  0.184265  -0.191432 -0.331521\n",
              "Gender     0.110546  1.000000   0.197904  ...  0.182411  -0.169518 -0.246434\n",
              "Education  0.156719  0.197904   1.000000  ...  0.241438  -0.131714 -0.128587\n",
              "Country    0.352023  0.218806   0.223474  ...  0.214892  -0.230975 -0.343111\n",
              "Ethnicity -0.068967 -0.002845  -0.035493  ... -0.032151   0.085264  0.102193\n",
              "Nscore    -0.137952  0.072980  -0.102268  ... -0.392354   0.173384  0.078152\n",
              "Escore    -0.031433  0.058690   0.119156  ...  0.307570   0.113695  0.208322\n",
              "Oscore    -0.226795 -0.133809   0.059153  ... -0.058607   0.275363  0.419486\n",
              "Ascore     0.063937  0.219119   0.089528  ...  0.245438  -0.229945 -0.208319\n",
              "Cscore     0.184265  0.182411   0.241438  ...  1.000000  -0.336175 -0.230334\n",
              "Impulsive -0.191432 -0.169518  -0.131714  ... -0.336175   1.000000  0.622500\n",
              "SS        -0.331521 -0.246434  -0.128587  ... -0.230334   0.622500  1.000000\n",
              "\n",
              "[12 rows x 12 columns]"
            ]
          },
          "metadata": {
            "tags": []
          },
          "execution_count": 10
        }
      ]
    },
    {
      "cell_type": "markdown",
      "metadata": {
        "id": "svE4s_dbKxW1"
      },
      "source": [
        "Так как большинство столбцов в нашем датасете либо категориальные, либо ординальные, приведем их к более удобному виду. Категориальные заменим на столбцы по количеству категорий, где в соответствущем категории столбце будет либо 0, либо 1. Ординальные оставим как есть, так как в этом датасете они уже расположены по порядку."
      ]
    },
    {
      "cell_type": "code",
      "metadata": {
        "id": "LZBsqOgIMJXY"
      },
      "source": [
        "data.Gender = pd.get_dummies(data.Gender)\n",
        "data = pd.get_dummies(\n",
        "    data, \n",
        "    columns = ['Country', 'Ethnicity'])"
      ],
      "execution_count": 11,
      "outputs": []
    },
    {
      "cell_type": "markdown",
      "metadata": {
        "id": "hkKNUai8IQ4g"
      },
      "source": [
        "Для начала сведем задачу к multilabel binary classification"
      ]
    },
    {
      "cell_type": "markdown",
      "metadata": {
        "id": "86H6rxzkp9Y8"
      },
      "source": [
        "#### Multilabel binary classification"
      ]
    },
    {
      "cell_type": "code",
      "metadata": {
        "id": "Qgq0Y0GH41id"
      },
      "source": [
        "from sklearn.model_selection import train_test_split\n",
        "\n",
        "X_train, X_test, y_train, y_test = train_test_split(\n",
        "    data[data.columns[~data.columns.isin(drugs)]], \n",
        "    data[drugs], \n",
        "    test_size=0.25, \n",
        "    random_state=1)"
      ],
      "execution_count": 12,
      "outputs": []
    },
    {
      "cell_type": "code",
      "metadata": {
        "id": "XVA8r9UQIixD"
      },
      "source": [
        "multiclass2binary = {\n",
        "    'CL0': 0,\n",
        "    'CL1': 0,\n",
        "    'CL2': 1,\n",
        "    'CL3': 1,\n",
        "    'CL4': 1,\n",
        "    'CL5': 1,\n",
        "    'CL6': 1\n",
        "}\n",
        "\n",
        "y_train_binary = y_train.apply(lambda col: col.apply(lambda row: multiclass2binary[row]))\n",
        "y_test_binary = y_test.apply(lambda col: col.apply(lambda row: multiclass2binary[row]))"
      ],
      "execution_count": 13,
      "outputs": []
    },
    {
      "cell_type": "code",
      "metadata": {
        "id": "pNgB39j46BfD"
      },
      "source": [
        "from sklearn.metrics import roc_curve, roc_auc_score, precision_recall_curve, accuracy_score\n",
        "\n",
        "def fitClassifiers(classifiers, X_train, X_test, y_train, y_test):\n",
        "    roc_auc_scores = {}\n",
        "    accuracy_scores = {}\n",
        "    \n",
        "    for classifier in classifiers:\n",
        "        model_name = type(classifier).__name__\n",
        "        \n",
        "        classifier.fit(X_train, y_train)\n",
        "        probs = classifier.predict_proba(X_test)\n",
        "        pred = classifier.predict(X_test)\n",
        "        accuracy = {}\n",
        "        method_auc = {}\n",
        "        if pd.DataFrame(y_test).shape[1] > 1:\n",
        "          for i in range(len(probs)):\n",
        "            score = roc_auc_score(y_test.iloc[:,i], probs[i][:,1])\n",
        "            acc = accuracy_score(y_test.iloc[:,i], pred[:,i])\n",
        "            method_auc[y_test_binary.columns[i]] = score\n",
        "            accuracy[y_test_binary.columns[i]] = acc\n",
        "        else:\n",
        "          score = roc_auc_score(y_test, probs[:,1])\n",
        "          method_auc = score\n",
        "          acc = accuracy_score(y_test, pred)\n",
        "          accuracy = acc\n",
        "\n",
        "        roc_auc_scores[model_name] = method_auc\n",
        "        accuracy_scores[model_name] = accuracy\n",
        "    \n",
        "    return classifiers, roc_auc_scores, accuracy_scores"
      ],
      "execution_count": 14,
      "outputs": []
    },
    {
      "cell_type": "code",
      "metadata": {
        "id": "9paSUFhc7Rs1"
      },
      "source": [
        "from sklearn.tree import DecisionTreeClassifier\n",
        "from sklearn.ensemble import RandomForestClassifier, ExtraTreesClassifier\n",
        "\n",
        "classifiers_binary = [\n",
        "    DecisionTreeClassifier(),\n",
        "    RandomForestClassifier(),\n",
        "    ExtraTreesClassifier()\n",
        "]"
      ],
      "execution_count": 15,
      "outputs": []
    },
    {
      "cell_type": "code",
      "metadata": {
        "id": "d-G5zHfM7jf0"
      },
      "source": [
        "classifiers_binary, roc_auc_scores_binary, accuracy_scores_binary = fitClassifiers(\n",
        "    classifiers_binary, \n",
        "    X_train, \n",
        "    X_test, \n",
        "    y_train_binary, \n",
        "    y_test_binary)"
      ],
      "execution_count": 16,
      "outputs": []
    },
    {
      "cell_type": "markdown",
      "metadata": {
        "id": "ehoQijs6bQsI"
      },
      "source": [
        "Функция fitClassifiers() возвращает обученные классификаторы, ROC_AUC и точность. Если посмотреть на точность складывается ощущение, что модель в некоторых случаях хорошо работает. Однако показатели ROC_AUC низкие. Связанно это с тем, что данные не сбалансированные."
      ]
    },
    {
      "cell_type": "code",
      "metadata": {
        "colab": {
          "base_uri": "https://localhost:8080/"
        },
        "id": "55Mr0MvPauUH",
        "outputId": "f795eff8-6d94-443e-f4a4-a58be4bea587"
      },
      "source": [
        "accuracy_scores_binary"
      ],
      "execution_count": 17,
      "outputs": [
        {
          "output_type": "execute_result",
          "data": {
            "text/plain": [
              "{'DecisionTreeClassifier': {'Alcohol': 0.9446808510638298,\n",
              "  'Amphet': 0.6574468085106383,\n",
              "  'Amyl': 0.6723404255319149,\n",
              "  'Benzos': 0.6361702127659574,\n",
              "  'Caff': 0.9723404255319149,\n",
              "  'Cannabis': 0.7446808510638298,\n",
              "  'Choc': 0.9638297872340426,\n",
              "  'Coke': 0.6127659574468085,\n",
              "  'Crack': 0.8340425531914893,\n",
              "  'Ecstasy': 0.6404255319148936,\n",
              "  'Heroin': 0.8446808510638298,\n",
              "  'Ketamine': 0.7404255319148936,\n",
              "  'LSD': 0.7063829787234043,\n",
              "  'Legalh': 0.6851063829787234,\n",
              "  'Meth': 0.7319148936170212,\n",
              "  'Mushrooms': 0.6595744680851063,\n",
              "  'Nicotine': 0.6702127659574468,\n",
              "  'VSA': 0.7957446808510639},\n",
              " 'ExtraTreesClassifier': {'Alcohol': 0.9659574468085106,\n",
              "  'Amphet': 0.7297872340425532,\n",
              "  'Amyl': 0.8191489361702128,\n",
              "  'Benzos': 0.7,\n",
              "  'Caff': 0.9893617021276596,\n",
              "  'Cannabis': 0.8021276595744681,\n",
              "  'Choc': 0.9744680851063829,\n",
              "  'Coke': 0.7021276595744681,\n",
              "  'Crack': 0.8914893617021277,\n",
              "  'Ecstasy': 0.7702127659574468,\n",
              "  'Heroin': 0.8978723404255319,\n",
              "  'Ketamine': 0.8319148936170213,\n",
              "  'LSD': 0.8170212765957446,\n",
              "  'Legalh': 0.8021276595744681,\n",
              "  'Meth': 0.8063829787234043,\n",
              "  'Mushrooms': 0.7680851063829788,\n",
              "  'Nicotine': 0.7489361702127659,\n",
              "  'VSA': 0.874468085106383},\n",
              " 'RandomForestClassifier': {'Alcohol': 0.9702127659574468,\n",
              "  'Amphet': 0.7191489361702128,\n",
              "  'Amyl': 0.8148936170212766,\n",
              "  'Benzos': 0.6702127659574468,\n",
              "  'Caff': 0.9893617021276596,\n",
              "  'Cannabis': 0.8170212765957446,\n",
              "  'Choc': 0.9744680851063829,\n",
              "  'Coke': 0.7042553191489361,\n",
              "  'Crack': 0.8914893617021277,\n",
              "  'Ecstasy': 0.7595744680851064,\n",
              "  'Heroin': 0.8936170212765957,\n",
              "  'Ketamine': 0.8425531914893617,\n",
              "  'LSD': 0.8085106382978723,\n",
              "  'Legalh': 0.8042553191489362,\n",
              "  'Meth': 0.8170212765957446,\n",
              "  'Mushrooms': 0.7617021276595745,\n",
              "  'Nicotine': 0.7595744680851064,\n",
              "  'VSA': 0.8723404255319149}}"
            ]
          },
          "metadata": {
            "tags": []
          },
          "execution_count": 17
        }
      ]
    },
    {
      "cell_type": "code",
      "metadata": {
        "colab": {
          "base_uri": "https://localhost:8080/"
        },
        "id": "c_TEE1EeajUF",
        "outputId": "d231db2f-c766-4ac4-e69e-322d70fc20af"
      },
      "source": [
        "roc_auc_scores_binary"
      ],
      "execution_count": 18,
      "outputs": [
        {
          "output_type": "execute_result",
          "data": {
            "text/plain": [
              "{'DecisionTreeClassifier': {'Alcohol': 0.5214598997493735,\n",
              "  'Amphet': 0.6241182230570933,\n",
              "  'Amyl': 0.5235737222772426,\n",
              "  'Benzos': 0.6267277141600871,\n",
              "  'Caff': 0.5903225806451613,\n",
              "  'Cannabis': 0.697449537122946,\n",
              "  'Choc': 0.5351164483260553,\n",
              "  'Coke': 0.5755639402791302,\n",
              "  'Crack': 0.5883288876409751,\n",
              "  'Ecstasy': 0.6198974180983784,\n",
              "  'Heroin': 0.6157593678801687,\n",
              "  'Ketamine': 0.5517072213500784,\n",
              "  'LSD': 0.6382276165190424,\n",
              "  'Legalh': 0.6739687055476529,\n",
              "  'Meth': 0.5984356430170531,\n",
              "  'Mushrooms': 0.6433977471544556,\n",
              "  'Nicotine': 0.6140567584961282,\n",
              "  'VSA': 0.5058050383351588},\n",
              " 'ExtraTreesClassifier': {'Alcohol': 0.6361998746867168,\n",
              "  'Amphet': 0.7770628084970325,\n",
              "  'Amyl': 0.7412742714804477,\n",
              "  'Benzos': 0.7398822382381617,\n",
              "  'Caff': 0.846236559139785,\n",
              "  'Cannabis': 0.8864044040329065,\n",
              "  'Choc': 0.609443231441048,\n",
              "  'Coke': 0.7567145407335281,\n",
              "  'Crack': 0.8019561046375592,\n",
              "  'Ecstasy': 0.8231137077958389,\n",
              "  'Heroin': 0.8168839982548839,\n",
              "  'Ketamine': 0.7671866823652538,\n",
              "  'LSD': 0.8697039334240646,\n",
              "  'Legalh': 0.8693504030346135,\n",
              "  'Meth': 0.810287167297753,\n",
              "  'Mushrooms': 0.8264660205626216,\n",
              "  'Nicotine': 0.7605721522140796,\n",
              "  'VSA': 0.7816429353778751},\n",
              " 'RandomForestClassifier': {'Alcohol': 0.5957863408521303,\n",
              "  'Amphet': 0.7768529805559441,\n",
              "  'Amyl': 0.743765193121455,\n",
              "  'Benzos': 0.7392704888260148,\n",
              "  'Caff': 0.869462365591398,\n",
              "  'Cannabis': 0.8896517597575307,\n",
              "  'Choc': 0.6338245997088792,\n",
              "  'Coke': 0.754381694255112,\n",
              "  'Crack': 0.7560016846834199,\n",
              "  'Ecstasy': 0.8103488170301383,\n",
              "  'Heroin': 0.8083765572737409,\n",
              "  'Ketamine': 0.7592065672422815,\n",
              "  'LSD': 0.8609357220945539,\n",
              "  'Legalh': 0.8660976766239925,\n",
              "  'Meth': 0.8239960200105029,\n",
              "  'Mushrooms': 0.8210894650966207,\n",
              "  'Nicotine': 0.7639456912121905,\n",
              "  'VSA': 0.760197152245345}}"
            ]
          },
          "metadata": {
            "tags": []
          },
          "execution_count": 18
        }
      ]
    },
    {
      "cell_type": "markdown",
      "metadata": {
        "id": "DpN4Dx2X23qw"
      },
      "source": [
        "Теперь переопределим задачу и попробуем обойти дисбаланс в данных. Попробуем по фичамм предсказать, принимает ли человек запрещенные вещества. \n",
        "\n",
        "Для этого подготовим данные. "
      ]
    },
    {
      "cell_type": "code",
      "metadata": {
        "id": "SKT-rvsi3bgT"
      },
      "source": [
        "illegal_drugs = [\n",
        "           'Amphet',\n",
        "           'Amyl','Benzos','Cannabis',\n",
        "           'Coke','Crack','Ecstasy','Heroin','Ketamine',\n",
        "           'Legalh','LSD','Meth','Mushrooms','VSA'\n",
        "           ]\n",
        "\n",
        "def zeroOrOne(x):\n",
        "  if x == 0:\n",
        "    return 0\n",
        "  else:\n",
        "    return 1\n",
        "\n",
        "y_test_addicted = y_test_binary.loc[:, illegal_drugs].sum(axis=1).apply(zeroOrOne)\n",
        "y_train_addicted = y_train_binary.loc[:, illegal_drugs].sum(axis=1).apply(zeroOrOne)"
      ],
      "execution_count": 19,
      "outputs": []
    },
    {
      "cell_type": "code",
      "metadata": {
        "colab": {
          "base_uri": "https://localhost:8080/",
          "height": 592
        },
        "id": "6nwQrFMXg-KL",
        "outputId": "1bf6be1e-32e7-4778-9fcd-38152bfcf3af"
      },
      "source": [
        "import matplotlib.pyplot as plt\n",
        "\n",
        "plt.figure(figsize=[10, 20])\n",
        "plt.subplot(5, 1, 1)\n",
        "y_train_addicted.value_counts().plot.pie()\n",
        "plt.title(\"Тренировочные данне\")\n",
        "plt.subplot(5, 1, 2)\n",
        "y_test_addicted.value_counts().plot.pie()\n",
        "plt.title(\"Валидационные данные\")\n",
        "\n",
        "plt.tight_layout()\n",
        "plt.show()"
      ],
      "execution_count": 20,
      "outputs": [
        {
          "output_type": "display_data",
          "data": {
            "image/png": "[encoded data removed]",
            "text/plain": [
              "<Figure size 720x1440 with 2 Axes>"
            ]
          },
          "metadata": {
            "tags": []
          }
        }
      ]
    },
    {
      "cell_type": "markdown",
      "metadata": {
        "id": "0eGXLKHdnpjz"
      },
      "source": [
        "На графиках видно, что данные разбалансированны (1:3). Применим две техники борьбы с этой проблемой"
      ]
    },
    {
      "cell_type": "markdown",
      "metadata": {
        "id": "W46X8b79hKnn"
      },
      "source": [
        "#### Oversampling"
      ]
    },
    {
      "cell_type": "code",
      "metadata": {
        "id": "RWsv5itkDoFj"
      },
      "source": [
        "X_train_oversampled = X_train.append(X_train.loc[y_train_addicted == 0], ignore_index=True)\n",
        "y_train_addicted_oversampled = y_train_addicted.append(y_train_addicted.loc[y_train_addicted == 0], ignore_index=True)"
      ],
      "execution_count": 21,
      "outputs": []
    },
    {
      "cell_type": "code",
      "metadata": {
        "id": "qQrNdFcZIlP3"
      },
      "source": [
        "classifiers_addicted_oversampled = [\n",
        "    DecisionTreeClassifier(),\n",
        "    RandomForestClassifier(),\n",
        "    ExtraTreesClassifier()\n",
        "]\n",
        "\n",
        "classifiers_addicted_oversampled, roc_auc_scores_addicted_oversampled, accuracy_addicted_oversampled = fitClassifiers(\n",
        "    classifiers_addicted_oversampled, \n",
        "    X_train_oversampled, \n",
        "    X_test, \n",
        "    y_train_addicted_oversampled, \n",
        "    y_test_addicted)"
      ],
      "execution_count": 22,
      "outputs": []
    },
    {
      "cell_type": "code",
      "metadata": {
        "colab": {
          "base_uri": "https://localhost:8080/"
        },
        "id": "uMPrck1SJG_T",
        "outputId": "7ff031c0-3317-4f14-a411-d012abb454b4"
      },
      "source": [
        "roc_auc_scores_addicted_oversampled"
      ],
      "execution_count": 23,
      "outputs": [
        {
          "output_type": "execute_result",
          "data": {
            "text/plain": [
              "{'DecisionTreeClassifier': 0.6986527228189183,\n",
              " 'ExtraTreesClassifier': 0.8672508008290937,\n",
              " 'RandomForestClassifier': 0.8847277181081591}"
            ]
          },
          "metadata": {
            "tags": []
          },
          "execution_count": 23
        }
      ]
    },
    {
      "cell_type": "code",
      "metadata": {
        "colab": {
          "base_uri": "https://localhost:8080/"
        },
        "id": "r8hnhkrxewlo",
        "outputId": "2142edc4-8e0b-4e1e-bf93-46b1908f8a85"
      },
      "source": [
        "accuracy_addicted_oversampled"
      ],
      "execution_count": 24,
      "outputs": [
        {
          "output_type": "execute_result",
          "data": {
            "text/plain": [
              "{'DecisionTreeClassifier': 0.774468085106383,\n",
              " 'ExtraTreesClassifier': 0.8085106382978723,\n",
              " 'RandomForestClassifier': 0.8212765957446808}"
            ]
          },
          "metadata": {
            "tags": []
          },
          "execution_count": 24
        }
      ]
    },
    {
      "cell_type": "markdown",
      "metadata": {
        "id": "1w9vfyI0gHou"
      },
      "source": [
        "#### Undesampling"
      ]
    },
    {
      "cell_type": "code",
      "metadata": {
        "id": "PVGcJhB7gaiW"
      },
      "source": [
        "X_train_undersampled = X_train.loc[y_train_addicted == 0]\n",
        "X_train_undersampled = X_train_undersampled.append(X_train.loc[y_train_addicted == 1].sample(len(X_train_undersampled)))\n",
        "y_train_addicted_undersampled = pd.Series([i//(len(X_train_undersampled)/2) for i in range(len(X_train_undersampled))])"
      ],
      "execution_count": 25,
      "outputs": []
    },
    {
      "cell_type": "code",
      "metadata": {
        "id": "7UXeZQzigC-r"
      },
      "source": [
        "classifiers_addicted_undersampled = [\n",
        "    DecisionTreeClassifier(),\n",
        "    RandomForestClassifier(),\n",
        "    ExtraTreesClassifier()\n",
        "]\n",
        "\n",
        "classifiers_addicted_undersampled, roc_auc_scores_addicted_undersampled, accuracy_addicted_undersampled = fitClassifiers(\n",
        "    classifiers_addicted_undersampled, \n",
        "    X_train_undersampled, \n",
        "    X_test, \n",
        "    y_train_addicted_undersampled, \n",
        "    y_test_addicted)"
      ],
      "execution_count": 26,
      "outputs": []
    },
    {
      "cell_type": "code",
      "metadata": {
        "colab": {
          "base_uri": "https://localhost:8080/"
        },
        "id": "BJbUOcdKj_1U",
        "outputId": "4766c7b4-fd3a-43bb-caa2-cff1de4e62b5"
      },
      "source": [
        "roc_auc_scores_addicted_undersampled"
      ],
      "execution_count": 27,
      "outputs": [
        {
          "output_type": "execute_result",
          "data": {
            "text/plain": [
              "{'DecisionTreeClassifier': 0.700207273412474,\n",
              " 'ExtraTreesClassifier': 0.8679691916336914,\n",
              " 'RandomForestClassifier': 0.8662850951573393}"
            ]
          },
          "metadata": {
            "tags": []
          },
          "execution_count": 27
        }
      ]
    },
    {
      "cell_type": "code",
      "metadata": {
        "colab": {
          "base_uri": "https://localhost:8080/"
        },
        "id": "HSrVH-L2kHgz",
        "outputId": "31406a91-53b3-4afd-8625-4de813aa227d"
      },
      "source": [
        "accuracy_addicted_undersampled"
      ],
      "execution_count": 28,
      "outputs": [
        {
          "output_type": "execute_result",
          "data": {
            "text/plain": [
              "{'DecisionTreeClassifier': 0.725531914893617,\n",
              " 'ExtraTreesClassifier': 0.7659574468085106,\n",
              " 'RandomForestClassifier': 0.7829787234042553}"
            ]
          },
          "metadata": {
            "tags": []
          },
          "execution_count": 28
        }
      ]
    },
    {
      "cell_type": "markdown",
      "metadata": {
        "id": "XYdNfcRLtggj"
      },
      "source": [
        "Oversampling показал себя лучше. Попробуем на oversampling данных обучить более мощную модель."
      ]
    },
    {
      "cell_type": "markdown",
      "metadata": {
        "id": "KDfvOL9Norzi"
      },
      "source": [
        "#### LightGBM"
      ]
    },
    {
      "cell_type": "code",
      "metadata": {
        "id": "UpvNWxEro0eh"
      },
      "source": [
        "from lightgbm import LGBMClassifier"
      ],
      "execution_count": 29,
      "outputs": []
    },
    {
      "cell_type": "code",
      "metadata": {
        "id": "6C2zVrDzo6AK"
      },
      "source": [
        "LGBM, roc_auc_scores_addicted_oversampled_LGBM, accuracy_addicted_oversampled_LGBM = fitClassifiers(\n",
        "    [LGBMClassifier()], \n",
        "    X_train_oversampled, \n",
        "    X_test, \n",
        "    y_train_addicted_oversampled, \n",
        "    y_test_addicted)"
      ],
      "execution_count": 30,
      "outputs": []
    },
    {
      "cell_type": "code",
      "metadata": {
        "colab": {
          "base_uri": "https://localhost:8080/"
        },
        "id": "4xGPkOn6pEaX",
        "outputId": "7ab5d782-9337-44f1-bcf3-336417e89c28"
      },
      "source": [
        "roc_auc_scores_addicted_oversampled_LGBM"
      ],
      "execution_count": 31,
      "outputs": [
        {
          "output_type": "execute_result",
          "data": {
            "text/plain": [
              "{'LGBMClassifier': 0.8729508196721312}"
            ]
          },
          "metadata": {
            "tags": []
          },
          "execution_count": 31
        }
      ]
    },
    {
      "cell_type": "code",
      "metadata": {
        "colab": {
          "base_uri": "https://localhost:8080/"
        },
        "id": "kmUivZCwpPkT",
        "outputId": "07fcfed7-d1e6-4187-9e65-8b9276c0cb6d"
      },
      "source": [
        "accuracy_addicted_oversampled_LGBM"
      ],
      "execution_count": 32,
      "outputs": [
        {
          "output_type": "execute_result",
          "data": {
            "text/plain": [
              "{'LGBMClassifier': 0.825531914893617}"
            ]
          },
          "metadata": {
            "tags": []
          },
          "execution_count": 32
        }
      ]
    },
    {
      "cell_type": "markdown",
      "metadata": {
        "id": "CS0HARPXqLvb"
      },
      "source": [
        "#### Feature importances"
      ]
    },
    {
      "cell_type": "code",
      "metadata": {
        "colab": {
          "base_uri": "https://localhost:8080/",
          "height": 282
        },
        "id": "aSk3S9hdqT5m",
        "outputId": "c07b58c6-8253-4504-a93a-2bf89bfaf9e4"
      },
      "source": [
        "plt.barh(X_test.columns, LGBM[0].feature_importances_)"
      ],
      "execution_count": 33,
      "outputs": [
        {
          "output_type": "execute_result",
          "data": {
            "text/plain": [
              "<BarContainer object of 24 artists>"
            ]
          },
          "metadata": {
            "tags": []
          },
          "execution_count": 33
        },
        {
          "output_type": "display_data",
          "data": {
            "image/png": "[encoded data removed]",
            "text/plain": [
              "<Figure size 432x288 with 1 Axes>"
            ]
          },
          "metadata": {
            "tags": [],
            "needs_background": "light"
          }
        }
      ]
    },
    {
      "cell_type": "markdown",
      "metadata": {
        "id": "9L6HJElBsJ-p"
      },
      "source": [
        "На графике выше можно заметить, что все свойства кроме пола, страны и расы. Попробуем обучить нашу лучшую модель (LightGBM) без этих полей."
      ]
    },
    {
      "cell_type": "code",
      "metadata": {
        "id": "R1FhPaWZrcH7"
      },
      "source": [
        "LGBM_no_ecg, roc_auc_scores_addicted_oversampled_LGBM_no_ecg, accuracy_addicted_oversampled_LGBM_no_ecg = fitClassifiers(\n",
        "    [LGBMClassifier()], \n",
        "    X_train_oversampled[[\n",
        "           'Age','Education',\n",
        "           'Nscore','Escore','Oscore','Ascore',\n",
        "           'Cscore','Impulsive','SS'\n",
        "           ]], \n",
        "    X_test[[\n",
        "           'Age','Education',\n",
        "           'Nscore','Escore','Oscore','Ascore',\n",
        "           'Cscore','Impulsive','SS'\n",
        "           ]], \n",
        "    y_train_addicted_oversampled, \n",
        "    y_test_addicted)"
      ],
      "execution_count": 34,
      "outputs": []
    },
    {
      "cell_type": "code",
      "metadata": {
        "colab": {
          "base_uri": "https://localhost:8080/"
        },
        "id": "oRf60XH_s6Lq",
        "outputId": "5aef8389-8db7-4b6f-e334-e755e1422414"
      },
      "source": [
        "roc_auc_scores_addicted_oversampled_LGBM_no_ecg"
      ],
      "execution_count": 35,
      "outputs": [
        {
          "output_type": "execute_result",
          "data": {
            "text/plain": [
              "{'LGBMClassifier': 0.85048049745619}"
            ]
          },
          "metadata": {
            "tags": []
          },
          "execution_count": 35
        }
      ]
    },
    {
      "cell_type": "code",
      "metadata": {
        "colab": {
          "base_uri": "https://localhost:8080/"
        },
        "id": "SwYM5n9Vs8YC",
        "outputId": "ee677ba6-90b8-4fb8-da5e-d1ea70046491"
      },
      "source": [
        "accuracy_addicted_oversampled_LGBM_no_ecg"
      ],
      "execution_count": 36,
      "outputs": [
        {
          "output_type": "execute_result",
          "data": {
            "text/plain": [
              "{'LGBMClassifier': 0.8021276595744681}"
            ]
          },
          "metadata": {
            "tags": []
          },
          "execution_count": 36
        }
      ]
    },
    {
      "cell_type": "markdown",
      "metadata": {
        "id": "x1vxIQxGs-4Q"
      },
      "source": [
        "Вышло хуже("
      ]
    },
    {
      "cell_type": "markdown",
      "metadata": {
        "id": "od9T5VLKw4qi"
      },
      "source": [
        "#### Наоборот"
      ]
    },
    {
      "cell_type": "markdown",
      "metadata": {
        "id": "Q-qYlY1q6qv1"
      },
      "source": [
        "Порешаем обратные задачи"
      ]
    },
    {
      "cell_type": "markdown",
      "metadata": {
        "id": "AaLoJHlL0uXU"
      },
      "source": [
        "Попробуем определить пол наркомана по предпочитаемым наркотикам."
      ]
    },
    {
      "cell_type": "code",
      "metadata": {
        "id": "-ORj_q68w9od"
      },
      "source": [
        "drugs2Gender, drugs2Gender_ROC_AUC, drugs2Gender_Accuracy= fitClassifiers(\n",
        "    [LGBMClassifier()],\n",
        "    y_train_binary,\n",
        "    y_test_binary,\n",
        "    X_train['Gender'],\n",
        "    X_test['Gender']\n",
        "    )"
      ],
      "execution_count": 37,
      "outputs": []
    },
    {
      "cell_type": "code",
      "metadata": {
        "colab": {
          "base_uri": "https://localhost:8080/"
        },
        "id": "6TL5Zutr1HOY",
        "outputId": "314550df-533b-4296-fe4e-0653f7661c86"
      },
      "source": [
        "drugs2Gender_ROC_AUC"
      ],
      "execution_count": 38,
      "outputs": [
        {
          "output_type": "execute_result",
          "data": {
            "text/plain": [
              "{'LGBMClassifier': 0.6756827731092436}"
            ]
          },
          "metadata": {
            "tags": []
          },
          "execution_count": 38
        }
      ]
    },
    {
      "cell_type": "code",
      "metadata": {
        "colab": {
          "base_uri": "https://localhost:8080/"
        },
        "id": "fXOccyhn1HWi",
        "outputId": "18d955b7-fb94-407c-e508-02df4cd39e92"
      },
      "source": [
        "drugs2Gender_Accuracy"
      ],
      "execution_count": 39,
      "outputs": [
        {
          "output_type": "execute_result",
          "data": {
            "text/plain": [
              "{'LGBMClassifier': 0.625531914893617}"
            ]
          },
          "metadata": {
            "tags": []
          },
          "execution_count": 39
        }
      ]
    },
    {
      "cell_type": "code",
      "metadata": {
        "colab": {
          "base_uri": "https://localhost:8080/",
          "height": 265
        },
        "id": "RaN9h95QyrCV",
        "outputId": "3d799687-045d-4854-f235-3217baad847a"
      },
      "source": [
        "X_test['Gender'].value_counts().plot.pie()"
      ],
      "execution_count": 40,
      "outputs": [
        {
          "output_type": "execute_result",
          "data": {
            "text/plain": [
              "<matplotlib.axes._subplots.AxesSubplot at 0x7f7962a17790>"
            ]
          },
          "metadata": {
            "tags": []
          },
          "execution_count": 40
        },
        {
          "output_type": "display_data",
          "data": {
            "image/png": "[encoded data removed]",
            "text/plain": [
              "<Figure size 432x288 with 1 Axes>"
            ]
          },
          "metadata": {
            "tags": []
          }
        }
      ]
    },
    {
      "cell_type": "markdown",
      "metadata": {
        "id": "R8CbBL461M6E"
      },
      "source": [
        "Попробуем определить страну по предпочитаемым наркотикам\n",
        "\n"
      ]
    },
    {
      "cell_type": "code",
      "metadata": {
        "id": "9hhXmfdc0VkL"
      },
      "source": [
        "reverse_data = pd.read_csv('drug_consumption.data', header=None, index_col=0)\n",
        "reverse_data.columns = columns\n",
        "reverse_data.head()\n",
        "\n",
        "reverse_data = reverse_data.loc[reverse_data['Semeron'] == 'CL0']\n",
        "reverse_data = reverse_data.set_index(pd.Index(range(1,len(reverse_data)+1)))\n",
        "reverse_data = reverse_data.drop(columns=['Semeron'])"
      ],
      "execution_count": 41,
      "outputs": []
    },
    {
      "cell_type": "code",
      "metadata": {
        "id": "TChJg80O0h0B"
      },
      "source": [
        "X_train_reverse, X_test_reverse, y_train_reverse, y_test_reverse = train_test_split(\n",
        "    reverse_data[drugs], \n",
        "    reverse_data[reverse_data.columns[~reverse_data.columns.isin(drugs)]], \n",
        "    test_size=0.25, \n",
        "    random_state=1)"
      ],
      "execution_count": 42,
      "outputs": []
    },
    {
      "cell_type": "code",
      "metadata": {
        "id": "Sl_tq7Mb12IU"
      },
      "source": [
        "X_train_reverse = X_train_reverse.apply(lambda col: col.apply(lambda row: multiclass2binary[row]))\n",
        "X_test_reverse = X_test_reverse.apply(lambda col: col.apply(lambda row: multiclass2binary[row]))"
      ],
      "execution_count": 43,
      "outputs": []
    },
    {
      "cell_type": "code",
      "metadata": {
        "id": "0bqJ9wA12IMA"
      },
      "source": [
        "y_test_reverse_country = pd.cut(\n",
        "    y_test_reverse.Country, \n",
        "    bins=[-1, -0.56009,-0.40841, -0.27519, -0.08765, 0.22128,0.25923,0.97082],\n",
        "    labels=[0,1,2,3,4,5,6])\n",
        "\n",
        "y_train_reverse_country = pd.cut(\n",
        "    y_train_reverse.Country, \n",
        "    bins=[-1, -0.56009,-0.40841, -0.27519, -0.08765, 0.22128,0.25923,0.97082],\n",
        "    labels=[0,1,2,3,4,5,6])"
      ],
      "execution_count": 44,
      "outputs": []
    },
    {
      "cell_type": "code",
      "metadata": {
        "colab": {
          "base_uri": "https://localhost:8080/"
        },
        "id": "99K5G9SE4X7W",
        "outputId": "c0ba6b85-b1ed-448f-bb0b-9ff40b117637"
      },
      "source": [
        "drugs2Country = LGBMClassifier()\n",
        "drugs2Country.fit(X_train_reverse, y_train_reverse_country)"
      ],
      "execution_count": 45,
      "outputs": [
        {
          "output_type": "execute_result",
          "data": {
            "text/plain": [
              "LGBMClassifier(boosting_type='gbdt', class_weight=None, colsample_bytree=1.0,\n",
              "               importance_type='split', learning_rate=0.1, max_depth=-1,\n",
              "               min_child_samples=20, min_child_weight=0.001, min_split_gain=0.0,\n",
              "               n_estimators=100, n_jobs=-1, num_leaves=31, objective=None,\n",
              "               random_state=None, reg_alpha=0.0, reg_lambda=0.0, silent=True,\n",
              "               subsample=1.0, subsample_for_bin=200000, subsample_freq=0)"
            ]
          },
          "metadata": {
            "tags": []
          },
          "execution_count": 45
        }
      ]
    },
    {
      "cell_type": "code",
      "metadata": {
        "colab": {
          "base_uri": "https://localhost:8080/"
        },
        "id": "5QzvcQ6c53qD",
        "outputId": "8020345c-201b-4e08-8d48-bc21e87b0f44"
      },
      "source": [
        "accuracy_score(y_test_reverse_country, drugs2Country.predict(X_test_reverse))"
      ],
      "execution_count": 46,
      "outputs": [
        {
          "output_type": "execute_result",
          "data": {
            "text/plain": [
              "0.7148936170212766"
            ]
          },
          "metadata": {
            "tags": []
          },
          "execution_count": 46
        }
      ]
    },
    {
      "cell_type": "markdown",
      "metadata": {
        "id": "WmugxDJA7_aw"
      },
      "source": [
        "Получим неплохой скор для многоклассовой классификации."
      ]
    },
    {
      "cell_type": "code",
      "metadata": {
        "colab": {
          "base_uri": "https://localhost:8080/",
          "height": 265
        },
        "id": "9GmTmH-K6KvZ",
        "outputId": "cbf55b60-a167-476e-ef3c-4c96a42b6735"
      },
      "source": [
        "y_test_reverse_country.value_counts().plot.pie()"
      ],
      "execution_count": 47,
      "outputs": [
        {
          "output_type": "execute_result",
          "data": {
            "text/plain": [
              "<matplotlib.axes._subplots.AxesSubplot at 0x7f796c8135d0>"
            ]
          },
          "metadata": {
            "tags": []
          },
          "execution_count": 47
        },
        {
          "output_type": "display_data",
          "data": {
            "image/png": "[encoded data removed]",
            "text/plain": [
              "<Figure size 432x288 with 1 Axes>"
            ]
          },
          "metadata": {
            "tags": []
          }
        }
      ]
    },
    {
      "cell_type": "code",
      "metadata": {
        "colab": {
          "base_uri": "https://localhost:8080/",
          "height": 282
        },
        "id": "sLBvyoxd7faa",
        "outputId": "980295ea-090f-4e2f-8cc3-1b450dd4891b"
      },
      "source": [
        "plt.barh(X_train_reverse.columns, drugs2Country.feature_importances_)"
      ],
      "execution_count": 48,
      "outputs": [
        {
          "output_type": "execute_result",
          "data": {
            "text/plain": [
              "<BarContainer object of 18 artists>"
            ]
          },
          "metadata": {
            "tags": []
          },
          "execution_count": 48
        },
        {
          "output_type": "display_data",
          "data": {
            "image/png": "[encoded data removed]",
            "text/plain": [
              "<Figure size 432x288 with 1 Axes>"
            ]
          },
          "metadata": {
            "tags": [],
            "needs_background": "light"
          }
        }
      ]
    },
    {
      "cell_type": "markdown",
      "metadata": {
        "id": "mctVa1YzQ65C"
      },
      "source": [
        "### **Задание №4**. Предположим, что мы построили рекомендательную систему, и ожидаем, что средний чек клиента вследствие этого должен вырасти. Мы провели AB-тест и собрали данные по контрольной и тестовой группе. Предложите и проведите статистический тест, который можно применить к этим данным.\n",
        "\n",
        "В процессе выполнения задания разрешено пользоваться библиотеками scipy и statsmodels."
      ]
    },
    {
      "cell_type": "code",
      "metadata": {
        "id": "ViwZxe1uSLwG"
      },
      "source": [
        "import numpy as np\n",
        "\n",
        "# Сгенерируем данные для задачи\n",
        "control = np.random.lognormal(mean=5, sigma=2, size=(100000,))\n",
        "test = np.random.lognormal(mean=5.04, sigma=2, size=(100000,))"
      ],
      "execution_count": 49,
      "outputs": []
    },
    {
      "cell_type": "markdown",
      "metadata": {
        "id": "ri3JLpCcgM-j"
      },
      "source": [
        "Хочется проверить, является ли различие средних в данном примере статистические значимым. Так как данные не являются нормально распределенными, нельзя использовать t-тест Стьюдента. Тогда воспользуемся U-критерием Манна — Уитни. В результате мы выясним, принадлежат ли наши выборки одному распределению. В случае, если принадлежат, можно утверждать, что отличие средних не является статистически значимым.\n"
      ]
    },
    {
      "cell_type": "code",
      "metadata": {
        "id": "Nw6iyva0SPXh"
      },
      "source": [
        "from scipy import stats\n",
        "\n",
        "statistic, p_val = stats.mannwhitneyu(control,test)"
      ],
      "execution_count": 50,
      "outputs": []
    },
    {
      "cell_type": "code",
      "metadata": {
        "colab": {
          "base_uri": "https://localhost:8080/"
        },
        "id": "NAxEnPt6i8bZ",
        "outputId": "336dbb27-fa9f-42cb-c8a2-f2d5ec60657f"
      },
      "source": [
        "alpha = 0.01\n",
        "\n",
        "if p_val > alpha:\n",
        "  print('Принадлежат одному распределению. Разница средних не значима.')\n",
        "else:\n",
        "  print('Не принадлежат одному распределению. Рекомендательная система эффективна.')"
      ],
      "execution_count": 51,
      "outputs": [
        {
          "output_type": "stream",
          "text": [
            "Не принадлежат одному распределению. Рекомендательная система эффективна.\n"
          ],
          "name": "stdout"
        }
      ]
    },
    {
      "cell_type": "markdown",
      "metadata": {
        "id": "iaW5kiF3VJhN"
      },
      "source": [
        "### **Задание №4 (*)**. В прошлом задании мы улавливали статистически значимое различие в средних в 0.04 единицы на выборке из 100000 клиентов. Насколько больше нам требуется собрать клиентов, чтобы уловить различие в 0.02?"
      ]
    },
    {
      "cell_type": "code",
      "metadata": {
        "id": "nJbyYyIQVfZQ"
      },
      "source": [
        "# <YOUR_CODE_HERE>"
      ],
      "execution_count": 52,
      "outputs": []
    }
  ]
}